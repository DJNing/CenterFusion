{
 "cells": [
  {
   "cell_type": "code",
   "execution_count": 2,
   "id": "b423f99b",
   "metadata": {},
   "outputs": [],
   "source": [
    "from pathlib import Path as P\n",
    "import fiftyone as fo\n"
   ]
  },
  {
   "cell_type": "markdown",
   "id": "1b01f04d",
   "metadata": {},
   "source": [
    "## Load VOD dataset annotation "
   ]
  },
  {
   "cell_type": "code",
   "execution_count": 3,
   "id": "2bc176d8",
   "metadata": {},
   "outputs": [
    {
     "data": {
      "text/plain": [
       "[PosixPath('../../data/vod/radar/.DS_Store'),\n",
       " PosixPath('../../data/vod/radar/ImageSets'),\n",
       " PosixPath('../../data/vod/radar/README.md'),\n",
       " PosixPath('../../data/vod/radar/clips'),\n",
       " PosixPath('../../data/vod/radar/clips_info.yaml'),\n",
       " PosixPath('../../data/vod/radar/convert_to_radar_format.py'),\n",
       " PosixPath('../../data/vod/radar/gt_database'),\n",
       " PosixPath('../../data/vod/radar/kitti_dbinfos_train.pkl'),\n",
       " PosixPath('../../data/vod/radar/kitti_infos_test.pkl'),\n",
       " PosixPath('../../data/vod/radar/kitti_infos_train.pkl'),\n",
       " PosixPath('../../data/vod/radar/kitti_infos_trainval.pkl'),\n",
       " PosixPath('../../data/vod/radar/kitti_infos_val.pkl'),\n",
       " PosixPath('../../data/vod/radar/testing'),\n",
       " PosixPath('../../data/vod/radar/training')]"
      ]
     },
     "execution_count": 3,
     "metadata": {},
     "output_type": "execute_result"
    }
   ],
   "source": [
    "vod_datapath = P('../../data/vod/')\n",
    "tag = 'radar'\n",
    "vod_radarpath = vod_datapath / tag\n",
    "sorted(vod_radarpath.glob('*'))"
   ]
  },
  {
   "cell_type": "code",
   "execution_count": 8,
   "id": "dfd66423",
   "metadata": {},
   "outputs": [],
   "source": [
    "# load pickle \n",
    "import pickle\n",
    "with open('../../data/vod/radar/kitti_infos_train.pkl', 'rb') as f:\n",
    "    test_pickle = pickle.load(f)"
   ]
  },
  {
   "cell_type": "code",
   "execution_count": 9,
   "id": "fc5bad70",
   "metadata": {},
   "outputs": [
    {
     "data": {
      "text/plain": [
       "['__add__',\n",
       " '__class__',\n",
       " '__contains__',\n",
       " '__delattr__',\n",
       " '__delitem__',\n",
       " '__dir__',\n",
       " '__doc__',\n",
       " '__eq__',\n",
       " '__format__',\n",
       " '__ge__',\n",
       " '__getattribute__',\n",
       " '__getitem__',\n",
       " '__gt__',\n",
       " '__hash__',\n",
       " '__iadd__',\n",
       " '__imul__',\n",
       " '__init__',\n",
       " '__init_subclass__',\n",
       " '__iter__',\n",
       " '__le__',\n",
       " '__len__',\n",
       " '__lt__',\n",
       " '__mul__',\n",
       " '__ne__',\n",
       " '__new__',\n",
       " '__reduce__',\n",
       " '__reduce_ex__',\n",
       " '__repr__',\n",
       " '__reversed__',\n",
       " '__rmul__',\n",
       " '__setattr__',\n",
       " '__setitem__',\n",
       " '__sizeof__',\n",
       " '__str__',\n",
       " '__subclasshook__',\n",
       " 'append',\n",
       " 'clear',\n",
       " 'copy',\n",
       " 'count',\n",
       " 'extend',\n",
       " 'index',\n",
       " 'insert',\n",
       " 'pop',\n",
       " 'remove',\n",
       " 'reverse',\n",
       " 'sort']"
      ]
     },
     "execution_count": 9,
     "metadata": {},
     "output_type": "execute_result"
    }
   ],
   "source": [
    "dir(test_pickle)"
   ]
  },
  {
   "cell_type": "code",
   "execution_count": 13,
   "id": "20b4e415",
   "metadata": {},
   "outputs": [],
   "source": [
    "info = test_pickle[0]"
   ]
  },
  {
   "cell_type": "code",
   "execution_count": 7,
   "id": "2717f49b",
   "metadata": {},
   "outputs": [
    {
     "name": "stdout",
     "output_type": "stream",
     "text": [
      "/mnt/12T/DJ/RC_fusion/CenterFusion/src/tools\r\n"
     ]
    }
   ],
   "source": [
    "!pwd"
   ]
  },
  {
   "cell_type": "code",
   "execution_count": 11,
   "id": "69ce91e8",
   "metadata": {},
   "outputs": [
    {
     "data": {
      "text/plain": [
       "5139"
      ]
     },
     "execution_count": 11,
     "metadata": {},
     "output_type": "execute_result"
    }
   ],
   "source": [
    "len(test_pickle)"
   ]
  },
  {
   "cell_type": "code",
   "execution_count": 12,
   "id": "df0ee933",
   "metadata": {},
   "outputs": [],
   "source": [
    "img_dir = '../../data/vod/radar/training/image_2/'"
   ]
  },
  {
   "cell_type": "code",
   "execution_count": 14,
   "id": "fc81d601",
   "metadata": {},
   "outputs": [],
   "source": [
    "height, width = info['image']['image_shape']\n"
   ]
  },
  {
   "cell_type": "code",
   "execution_count": 15,
   "id": "3b729808",
   "metadata": {},
   "outputs": [
    {
     "data": {
      "text/plain": [
       "1216"
      ]
     },
     "execution_count": 15,
     "metadata": {},
     "output_type": "execute_result"
    }
   ],
   "source": [
    "height\n"
   ]
  },
  {
   "cell_type": "code",
   "execution_count": 16,
   "id": "8ec7eb14",
   "metadata": {},
   "outputs": [
    {
     "data": {
      "text/plain": [
       "1936"
      ]
     },
     "execution_count": 16,
     "metadata": {},
     "output_type": "execute_result"
    }
   ],
   "source": [
    "width"
   ]
  },
  {
   "cell_type": "code",
   "execution_count": 19,
   "id": "0415ab23",
   "metadata": {},
   "outputs": [
    {
     "data": {
      "text/plain": [
       "'00544'"
      ]
     },
     "execution_count": 19,
     "metadata": {},
     "output_type": "execute_result"
    }
   ],
   "source": [
    "info['image']['image_idx']"
   ]
  },
  {
   "cell_type": "code",
   "execution_count": 20,
   "id": "1d1667f5",
   "metadata": {},
   "outputs": [
    {
     "data": {
      "text/plain": [
       "{'point_cloud': {'num_features': 7, 'lidar_idx': '00544'},\n",
       " 'image': {'image_idx': '00544',\n",
       "  'image_shape': array([1216, 1936], dtype=int32)},\n",
       " 'calib': {'P2': array([[1.49546863e+03, 0.00000000e+00, 9.61272461e+02, 0.00000000e+00],\n",
       "         [0.00000000e+00, 1.49546863e+03, 6.24895935e+02, 0.00000000e+00],\n",
       "         [0.00000000e+00, 0.00000000e+00, 1.00000000e+00, 0.00000000e+00],\n",
       "         [0.00000000e+00, 0.00000000e+00, 0.00000000e+00, 1.00000000e+00]]),\n",
       "  'R0_rect': array([[1., 0., 0., 0.],\n",
       "         [0., 1., 0., 0.],\n",
       "         [0., 0., 1., 0.],\n",
       "         [0., 0., 0., 1.]], dtype=float32),\n",
       "  'Tr_velo_to_cam': array([[-0.013857  , -0.9997468 ,  0.01772762,  0.05283124],\n",
       "         [ 0.10934269, -0.01913807, -0.99381983,  0.98100483],\n",
       "         [ 0.99390751, -0.01183297,  0.1095802 ,  1.44445002],\n",
       "         [ 0.        ,  0.        ,  0.        ,  1.        ]])},\n",
       " 'annos': {'name': array(['bicycle', 'bicycle', 'bicycle_rack', 'bicycle', 'Cyclist',\n",
       "         'Cyclist', 'Cyclist', 'moped_scooter', 'Pedestrian', 'Pedestrian',\n",
       "         'rider', 'rider', 'rider', 'bicycle', 'moped_scooter',\n",
       "         'Pedestrian'], dtype='<U13'),\n",
       "  'truncated': array([0., 0., 0., 0., 1., 1., 1., 0., 1., 1., 1., 1., 1., 0., 0., 1.]),\n",
       "  'occluded': array([0., 0., 1., 0., 0., 1., 1., 1., 0., 1., 0., 2., 1., 1., 2., 0.]),\n",
       "  'alpha': array([-1.69352575,  1.99899904,  0.33835665, -1.88022201, -2.00432832,\n",
       "         -0.20291482,  3.03977651, -0.16560054, -2.92064428,  0.23600459,\n",
       "         -2.00685064,  2.95821659, -0.20052092,  2.07547287,  0.36338399,\n",
       "         -2.95515474]),\n",
       "  'bbox': array([[1204.9718 ,  766.78656, 1318.0629 ,  931.94824],\n",
       "         [   0.     ,  669.8923 ,  278.69495,  920.9737 ],\n",
       "         [ 199.3622 ,  762.29047,  392.51443,  871.6183 ],\n",
       "         [1425.1237 ,  759.5363 , 1712.0964 , 1117.4009 ],\n",
       "         [ 829.68066,  704.99744, 1048.8776 , 1013.1166 ],\n",
       "         [ 905.1772 ,  748.95575, 1080.6804 ,  910.7981 ],\n",
       "         [ 382.7782 ,  711.4978 ,  549.38574,  855.68365],\n",
       "         [ 133.16072,  757.90546,  278.28052,  860.1131 ],\n",
       "         [ 574.0226 ,  725.1997 ,  643.6188 ,  853.8158 ],\n",
       "         [ 410.69986,  677.243  ,  515.8898 ,  860.2389 ],\n",
       "         [ 861.6427 ,  716.82   , 1010.258  ,  966.5993 ],\n",
       "         [ 417.47238,  716.2463 ,  515.9694 ,  846.67706],\n",
       "         [ 950.8124 ,  751.98694, 1026.5942 ,  894.7114 ],\n",
       "         [   0.     ,  757.57745,  183.81744, 1188.1543 ],\n",
       "         [ 124.52079,  734.8904 ,  293.0848 ,  840.663  ],\n",
       "         [ 632.68866,  742.02765,  693.92346,  856.691  ]], dtype=float32),\n",
       "  'dimensions': array([[2.08323217, 1.20254873, 0.76748325],\n",
       "         [2.14647298, 1.25599268, 0.64530567],\n",
       "         [2.20141024, 1.48059617, 2.73718315],\n",
       "         [1.8082954 , 1.24117897, 0.67453113],\n",
       "         [2.23602833, 1.75531727, 0.60802716],\n",
       "         [1.97520724, 1.77597443, 0.79012354],\n",
       "         [2.0167727 , 1.73834531, 0.73278602],\n",
       "         [1.80137435, 1.28881848, 0.58827522],\n",
       "         [0.85121566, 1.75679924, 0.59026284],\n",
       "         [0.84617077, 1.7669248 , 0.79405469],\n",
       "         [0.9209234 , 1.55099264, 0.69586255],\n",
       "         [1.12710169, 1.5976185 , 0.66914617],\n",
       "         [0.81128159, 1.60444854, 0.51593707],\n",
       "         [1.82045394, 1.12767642, 0.59635244],\n",
       "         [2.27962615, 1.58176681, 0.78054552],\n",
       "         [0.78607083, 1.60775422, 0.5631579 ]]),\n",
       "  'location': array([[  2.7278981 ,   2.6119773 ,  13.788088  ],\n",
       "         [ -4.8405914 ,   1.5585977 ,   8.964775  ],\n",
       "         [-11.182379  ,   3.9422956 ,  25.344965  ],\n",
       "         [  2.6754959 ,   1.9371718 ,   6.8063083 ],\n",
       "         [ -0.21456957,   2.3652458 ,  10.249174  ],\n",
       "         [  0.36553648,   3.3037286 ,  17.848497  ],\n",
       "         [ -6.5101357 ,   2.9208834 ,  19.673662  ],\n",
       "         [-10.914405  ,   3.281224  ,  21.631334  ],\n",
       "         [ -4.987918  ,   3.1983724 ,  21.193521  ],\n",
       "         [ -5.0188766 ,   2.3111987 ,  15.117664  ],\n",
       "         [ -0.18686125,   2.217054  ,  10.269397  ],\n",
       "         [ -6.5067205 ,   2.833862  ,  19.673443  ],\n",
       "         [  0.3204978 ,   3.1383157 ,  17.721586  ],\n",
       "         [ -3.5315318 ,   1.6909326 ,   5.419004  ],\n",
       "         [-12.005561  ,   3.3779478 ,  23.916483  ],\n",
       "         [ -4.345192  ,   3.3405235 ,  21.837494  ]], dtype=float32),\n",
       "  'rotation_y': array([-1.49820359,  1.50389921, -0.07716109, -1.50568618, -2.02526056,\n",
       "         -0.18243772, -3.56297328, -0.63289312, -3.1517889 , -0.08453429,\n",
       "         -2.02504456, -3.64438007, -0.18243772,  1.49790776, -0.10184516,\n",
       "         -3.1515679 ]),\n",
       "  'score': array([1., 1., 1., 1., 1., 1., 1., 1., 1., 1., 1., 1., 1., 1., 1., 1.]),\n",
       "  'difficulty': array([ 0,  0,  1,  0, -1, -1, -1,  1, -1, -1, -1, -1, -1,  1,  2, -1],\n",
       "        dtype=int32),\n",
       "  'index': array([ 0,  1,  2,  3,  4,  5,  6,  7,  8,  9, 10, 11, 12, 13, 14, 15],\n",
       "        dtype=int32),\n",
       "  'gt_boxes_lidar': array([[12.40970039, -2.8516655 ,  0.38042241,  2.08323217,  0.76748325,\n",
       "           1.20254873, -0.07259274],\n",
       "         [ 7.60547113,  4.79214191,  0.79130304,  2.14647298,  0.64530567,\n",
       "           1.25599268, -3.07469553],\n",
       "         [24.23438263, 10.89287758,  0.21715844,  2.20141024,  2.73718315,\n",
       "           1.48059617, -1.49363523],\n",
       "         [ 5.39739895, -2.70374656,  0.30437881,  1.8082954 ,  0.67453113,\n",
       "           1.24117897, -0.06511015],\n",
       "         [ 8.90614319,  0.13665533,  0.46205553,  2.23602833,  0.60802716,\n",
       "           1.75531727,  0.45446423],\n",
       "         [16.55374527, -0.55118722,  0.3827205 ,  1.97520724,  0.79012354,\n",
       "           1.77597443, -1.3883586 ],\n",
       "         [18.42120552,  6.30847406,  0.82249779,  2.0167727 ,  0.73278602,\n",
       "           1.73834531,  1.99217695],\n",
       "         [20.46738052, 10.68156624,  0.37606537,  1.80137435,  0.58827522,\n",
       "           1.28881848, -0.93790321],\n",
       "         [19.94105339,  4.76334667,  0.74948239,  0.85121566,  0.59026284,\n",
       "           1.75679924,  1.58099258],\n",
       "         [13.80563545,  4.88317204,  0.96989346,  0.84617077,  0.79405469,\n",
       "           1.7669248 , -1.48626204],\n",
       "         [ 8.90965462,  0.11155084,  0.50987649,  0.9209234 ,  0.69586255,\n",
       "           1.55099264,  0.45424824],\n",
       "         [18.41142464,  6.30672836,  0.8386544 ,  1.12710169,  0.66914617,\n",
       "           1.5976185 ,  2.07358375],\n",
       "         [16.41014481, -0.50149256,  0.44664294,  0.81128159,  0.51593707,\n",
       "           1.60444854, -1.3883586 ],\n",
       "         [ 4.0776329 ,  3.52283812,  0.23028806,  1.82045394,  0.59635244,\n",
       "           1.12767642, -3.06870409],\n",
       "         [22.76430321, 11.74355507,  0.6574772 ,  2.27962615,  0.78054552,\n",
       "           1.58176681, -1.46895116],\n",
       "         [20.58773994,  4.11044312,  0.61564809,  0.78607083,  0.5631579 ,\n",
       "           1.60775422,  1.58077157]]),\n",
       "  'num_points_in_gt': array([ 2,  4,  1,  8, 13,  3,  3,  0,  4,  4,  8,  1,  0,  7,  0,  5],\n",
       "        dtype=int32)}}"
      ]
     },
     "execution_count": 20,
     "metadata": {},
     "output_type": "execute_result"
    }
   ],
   "source": [
    "info"
   ]
  },
  {
   "cell_type": "code",
   "execution_count": 21,
   "id": "5ec4f75b",
   "metadata": {},
   "outputs": [],
   "source": [
    "annos = info['annos']"
   ]
  },
  {
   "cell_type": "code",
   "execution_count": 22,
   "id": "3a77a40f",
   "metadata": {},
   "outputs": [
    {
     "data": {
      "text/plain": [
       "{'name': array(['bicycle', 'bicycle', 'bicycle_rack', 'bicycle', 'Cyclist',\n",
       "        'Cyclist', 'Cyclist', 'moped_scooter', 'Pedestrian', 'Pedestrian',\n",
       "        'rider', 'rider', 'rider', 'bicycle', 'moped_scooter',\n",
       "        'Pedestrian'], dtype='<U13'),\n",
       " 'truncated': array([0., 0., 0., 0., 1., 1., 1., 0., 1., 1., 1., 1., 1., 0., 0., 1.]),\n",
       " 'occluded': array([0., 0., 1., 0., 0., 1., 1., 1., 0., 1., 0., 2., 1., 1., 2., 0.]),\n",
       " 'alpha': array([-1.69352575,  1.99899904,  0.33835665, -1.88022201, -2.00432832,\n",
       "        -0.20291482,  3.03977651, -0.16560054, -2.92064428,  0.23600459,\n",
       "        -2.00685064,  2.95821659, -0.20052092,  2.07547287,  0.36338399,\n",
       "        -2.95515474]),\n",
       " 'bbox': array([[1204.9718 ,  766.78656, 1318.0629 ,  931.94824],\n",
       "        [   0.     ,  669.8923 ,  278.69495,  920.9737 ],\n",
       "        [ 199.3622 ,  762.29047,  392.51443,  871.6183 ],\n",
       "        [1425.1237 ,  759.5363 , 1712.0964 , 1117.4009 ],\n",
       "        [ 829.68066,  704.99744, 1048.8776 , 1013.1166 ],\n",
       "        [ 905.1772 ,  748.95575, 1080.6804 ,  910.7981 ],\n",
       "        [ 382.7782 ,  711.4978 ,  549.38574,  855.68365],\n",
       "        [ 133.16072,  757.90546,  278.28052,  860.1131 ],\n",
       "        [ 574.0226 ,  725.1997 ,  643.6188 ,  853.8158 ],\n",
       "        [ 410.69986,  677.243  ,  515.8898 ,  860.2389 ],\n",
       "        [ 861.6427 ,  716.82   , 1010.258  ,  966.5993 ],\n",
       "        [ 417.47238,  716.2463 ,  515.9694 ,  846.67706],\n",
       "        [ 950.8124 ,  751.98694, 1026.5942 ,  894.7114 ],\n",
       "        [   0.     ,  757.57745,  183.81744, 1188.1543 ],\n",
       "        [ 124.52079,  734.8904 ,  293.0848 ,  840.663  ],\n",
       "        [ 632.68866,  742.02765,  693.92346,  856.691  ]], dtype=float32),\n",
       " 'dimensions': array([[2.08323217, 1.20254873, 0.76748325],\n",
       "        [2.14647298, 1.25599268, 0.64530567],\n",
       "        [2.20141024, 1.48059617, 2.73718315],\n",
       "        [1.8082954 , 1.24117897, 0.67453113],\n",
       "        [2.23602833, 1.75531727, 0.60802716],\n",
       "        [1.97520724, 1.77597443, 0.79012354],\n",
       "        [2.0167727 , 1.73834531, 0.73278602],\n",
       "        [1.80137435, 1.28881848, 0.58827522],\n",
       "        [0.85121566, 1.75679924, 0.59026284],\n",
       "        [0.84617077, 1.7669248 , 0.79405469],\n",
       "        [0.9209234 , 1.55099264, 0.69586255],\n",
       "        [1.12710169, 1.5976185 , 0.66914617],\n",
       "        [0.81128159, 1.60444854, 0.51593707],\n",
       "        [1.82045394, 1.12767642, 0.59635244],\n",
       "        [2.27962615, 1.58176681, 0.78054552],\n",
       "        [0.78607083, 1.60775422, 0.5631579 ]]),\n",
       " 'location': array([[  2.7278981 ,   2.6119773 ,  13.788088  ],\n",
       "        [ -4.8405914 ,   1.5585977 ,   8.964775  ],\n",
       "        [-11.182379  ,   3.9422956 ,  25.344965  ],\n",
       "        [  2.6754959 ,   1.9371718 ,   6.8063083 ],\n",
       "        [ -0.21456957,   2.3652458 ,  10.249174  ],\n",
       "        [  0.36553648,   3.3037286 ,  17.848497  ],\n",
       "        [ -6.5101357 ,   2.9208834 ,  19.673662  ],\n",
       "        [-10.914405  ,   3.281224  ,  21.631334  ],\n",
       "        [ -4.987918  ,   3.1983724 ,  21.193521  ],\n",
       "        [ -5.0188766 ,   2.3111987 ,  15.117664  ],\n",
       "        [ -0.18686125,   2.217054  ,  10.269397  ],\n",
       "        [ -6.5067205 ,   2.833862  ,  19.673443  ],\n",
       "        [  0.3204978 ,   3.1383157 ,  17.721586  ],\n",
       "        [ -3.5315318 ,   1.6909326 ,   5.419004  ],\n",
       "        [-12.005561  ,   3.3779478 ,  23.916483  ],\n",
       "        [ -4.345192  ,   3.3405235 ,  21.837494  ]], dtype=float32),\n",
       " 'rotation_y': array([-1.49820359,  1.50389921, -0.07716109, -1.50568618, -2.02526056,\n",
       "        -0.18243772, -3.56297328, -0.63289312, -3.1517889 , -0.08453429,\n",
       "        -2.02504456, -3.64438007, -0.18243772,  1.49790776, -0.10184516,\n",
       "        -3.1515679 ]),\n",
       " 'score': array([1., 1., 1., 1., 1., 1., 1., 1., 1., 1., 1., 1., 1., 1., 1., 1.]),\n",
       " 'difficulty': array([ 0,  0,  1,  0, -1, -1, -1,  1, -1, -1, -1, -1, -1,  1,  2, -1],\n",
       "       dtype=int32),\n",
       " 'index': array([ 0,  1,  2,  3,  4,  5,  6,  7,  8,  9, 10, 11, 12, 13, 14, 15],\n",
       "       dtype=int32),\n",
       " 'gt_boxes_lidar': array([[12.40970039, -2.8516655 ,  0.38042241,  2.08323217,  0.76748325,\n",
       "          1.20254873, -0.07259274],\n",
       "        [ 7.60547113,  4.79214191,  0.79130304,  2.14647298,  0.64530567,\n",
       "          1.25599268, -3.07469553],\n",
       "        [24.23438263, 10.89287758,  0.21715844,  2.20141024,  2.73718315,\n",
       "          1.48059617, -1.49363523],\n",
       "        [ 5.39739895, -2.70374656,  0.30437881,  1.8082954 ,  0.67453113,\n",
       "          1.24117897, -0.06511015],\n",
       "        [ 8.90614319,  0.13665533,  0.46205553,  2.23602833,  0.60802716,\n",
       "          1.75531727,  0.45446423],\n",
       "        [16.55374527, -0.55118722,  0.3827205 ,  1.97520724,  0.79012354,\n",
       "          1.77597443, -1.3883586 ],\n",
       "        [18.42120552,  6.30847406,  0.82249779,  2.0167727 ,  0.73278602,\n",
       "          1.73834531,  1.99217695],\n",
       "        [20.46738052, 10.68156624,  0.37606537,  1.80137435,  0.58827522,\n",
       "          1.28881848, -0.93790321],\n",
       "        [19.94105339,  4.76334667,  0.74948239,  0.85121566,  0.59026284,\n",
       "          1.75679924,  1.58099258],\n",
       "        [13.80563545,  4.88317204,  0.96989346,  0.84617077,  0.79405469,\n",
       "          1.7669248 , -1.48626204],\n",
       "        [ 8.90965462,  0.11155084,  0.50987649,  0.9209234 ,  0.69586255,\n",
       "          1.55099264,  0.45424824],\n",
       "        [18.41142464,  6.30672836,  0.8386544 ,  1.12710169,  0.66914617,\n",
       "          1.5976185 ,  2.07358375],\n",
       "        [16.41014481, -0.50149256,  0.44664294,  0.81128159,  0.51593707,\n",
       "          1.60444854, -1.3883586 ],\n",
       "        [ 4.0776329 ,  3.52283812,  0.23028806,  1.82045394,  0.59635244,\n",
       "          1.12767642, -3.06870409],\n",
       "        [22.76430321, 11.74355507,  0.6574772 ,  2.27962615,  0.78054552,\n",
       "          1.58176681, -1.46895116],\n",
       "        [20.58773994,  4.11044312,  0.61564809,  0.78607083,  0.5631579 ,\n",
       "          1.60775422,  1.58077157]]),\n",
       " 'num_points_in_gt': array([ 2,  4,  1,  8, 13,  3,  3,  0,  4,  4,  8,  1,  0,  7,  0,  5],\n",
       "       dtype=int32)}"
      ]
     },
     "execution_count": 22,
     "metadata": {},
     "output_type": "execute_result"
    }
   ],
   "source": [
    "annos"
   ]
  },
  {
   "cell_type": "code",
   "execution_count": 25,
   "id": "9b75dc3b",
   "metadata": {},
   "outputs": [],
   "source": [
    "annos = info['annos']\n",
    "bbox = annos['bbox']\n",
    "alpha = annos['alpha']\n",
    "dimensions = annos['dimensions']\n",
    "yaw = annos['rotation_y']\n",
    "location = annos['location']\n",
    "name = annos['name']"
   ]
  },
  {
   "cell_type": "code",
   "execution_count": 27,
   "id": "832c5435",
   "metadata": {},
   "outputs": [],
   "source": [
    "used_classes = ['Car', 'Cyclist', 'Pedestrian']"
   ]
  },
  {
   "cell_type": "code",
   "execution_count": 30,
   "id": "f34227a7",
   "metadata": {},
   "outputs": [],
   "source": [
    "import numpy as np\n",
    "def keep_arrays_by_name(gt_names, used_classes):\n",
    "    inds = [i for i, x in enumerate(gt_names) if x in used_classes]\n",
    "    inds = np.array(inds, dtype=np.int64)\n",
    "    return inds"
   ]
  },
  {
   "cell_type": "code",
   "execution_count": 38,
   "id": "a86ba452",
   "metadata": {},
   "outputs": [],
   "source": [
    "selected_name = annos['name']\n",
    "selected = keep_arrays_by_name(selected_name, used_classes)\n",
    "selected_annos = {}\n",
    "for k in annos.keys():\n",
    "    selected_annos[k] = annos[k][selected]\n",
    "\n",
    "bbox = selected_annos['bbox']\n",
    "alpha = selected_annos['alpha']\n",
    "dimensions = selected_annos['dimensions']\n",
    "yaw = selected_annos['rotation_y']\n",
    "location = selected_annos['location']\n",
    "name = selected_annos['name']"
   ]
  },
  {
   "cell_type": "code",
   "execution_count": 32,
   "id": "85917943",
   "metadata": {},
   "outputs": [
    {
     "data": {
      "text/plain": [
       "array([ 4,  5,  6,  8,  9, 15])"
      ]
     },
     "execution_count": 32,
     "metadata": {},
     "output_type": "execute_result"
    }
   ],
   "source": [
    "selected"
   ]
  },
  {
   "cell_type": "code",
   "execution_count": 42,
   "id": "3bd89d28",
   "metadata": {},
   "outputs": [],
   "source": [
    "obj_id = np.array([used_classes.index(n) + 1 for n in name], dtype=np.int32)"
   ]
  },
  {
   "cell_type": "code",
   "execution_count": 40,
   "id": "7edb9bef",
   "metadata": {},
   "outputs": [
    {
     "data": {
      "text/plain": [
       "array([2, 2, 2, 3, 3, 3], dtype=int32)"
      ]
     },
     "execution_count": 40,
     "metadata": {},
     "output_type": "execute_result"
    }
   ],
   "source": [
    "gt_classes"
   ]
  },
  {
   "cell_type": "code",
   "execution_count": 41,
   "id": "bb4c2190",
   "metadata": {},
   "outputs": [
    {
     "data": {
      "text/plain": [
       "array(['Cyclist', 'Cyclist', 'Cyclist', 'Pedestrian', 'Pedestrian',\n",
       "       'Pedestrian'], dtype='<U13')"
      ]
     },
     "execution_count": 41,
     "metadata": {},
     "output_type": "execute_result"
    }
   ],
   "source": [
    "name"
   ]
  },
  {
   "cell_type": "code",
   "execution_count": 43,
   "id": "f57777fd",
   "metadata": {},
   "outputs": [
    {
     "data": {
      "text/plain": [
       "(6,)"
      ]
     },
     "execution_count": 43,
     "metadata": {},
     "output_type": "execute_result"
    }
   ],
   "source": [
    "obj_id.shape"
   ]
  },
  {
   "cell_type": "code",
   "execution_count": 44,
   "id": "d728f05a",
   "metadata": {},
   "outputs": [
    {
     "data": {
      "text/plain": [
       "(6, 4)"
      ]
     },
     "execution_count": 44,
     "metadata": {},
     "output_type": "execute_result"
    }
   ],
   "source": [
    "bbox.shape"
   ]
  },
  {
   "cell_type": "code",
   "execution_count": 47,
   "id": "74f6904c",
   "metadata": {},
   "outputs": [],
   "source": [
    "def get_coco_bbox(bboxes):\n",
    "    bbox_num = bboxes.shape[0]\n",
    "    coco_bboxes = np.zeros_like(bboxes)\n",
    "    for i in range(bbox_num):\n",
    "        bbox = bboxes[i,:]\n",
    "        coco_bboxes[i,:] = np.array([bbox[0], bbox[1], bbox[2] - bbox[0], bbox[3] - bbox[1]])\n",
    "    return coco_bboxes"
   ]
  },
  {
   "cell_type": "code",
   "execution_count": 48,
   "id": "75e92157",
   "metadata": {},
   "outputs": [
    {
     "data": {
      "text/plain": [
       "array([[829.68066 , 704.99744 , 219.1969  , 308.11914 ],\n",
       "       [905.1772  , 748.95575 , 175.50323 , 161.84235 ],\n",
       "       [382.7782  , 711.4978  , 166.60754 , 144.18585 ],\n",
       "       [574.0226  , 725.1997  ,  69.59619 , 128.61609 ],\n",
       "       [410.69986 , 677.243   , 105.18991 , 182.99591 ],\n",
       "       [632.68866 , 742.02765 ,  61.234802, 114.66333 ]], dtype=float32)"
      ]
     },
     "execution_count": 48,
     "metadata": {},
     "output_type": "execute_result"
    }
   ],
   "source": [
    "get_coco_bbox(bbox)"
   ]
  },
  {
   "cell_type": "code",
   "execution_count": 49,
   "id": "3bfb3576",
   "metadata": {},
   "outputs": [
    {
     "data": {
      "text/plain": [
       "array([-2.02526056, -0.18243772, -3.56297328, -3.1517889 , -0.08453429,\n",
       "       -3.1515679 ])"
      ]
     },
     "execution_count": 49,
     "metadata": {},
     "output_type": "execute_result"
    }
   ],
   "source": [
    "yaw"
   ]
  },
  {
   "cell_type": "code",
   "execution_count": 50,
   "id": "6812dfea",
   "metadata": {},
   "outputs": [],
   "source": [
    "anns_num = len(obj_id)"
   ]
  },
  {
   "cell_type": "code",
   "execution_count": null,
   "id": "c5b6bf37",
   "metadata": {},
   "outputs": [],
   "source": [
    "anns_list = []\n",
    "for i in range(anns_num):\n",
    "    ann_dict = {\n",
    "        'id':0,\n",
    "        'image_id':,\n",
    "        'category_id':,\n",
    "        'dim':,\n",
    "        'location':,\n",
    "        'depth':,\n",
    "        'occluded':,\n",
    "        'truncated':,\n",
    "        'rotation_y':,\n",
    "        'amodel_center':,\n",
    "        'iscrowd':,\n",
    "        'track_id':,\n",
    "        'attributes':,\n",
    "        'velocity':,\n",
    "        'velocity_cam':\n",
    "        'bbox':,\n",
    "        'area':,\n",
    "        'alpha':\n",
    "    }\n",
    "    anns_list += [ann_dict]"
   ]
  },
  {
   "cell_type": "code",
   "execution_count": 51,
   "id": "78b6c599",
   "metadata": {},
   "outputs": [
    {
     "data": {
      "text/plain": [
       "array([-8.3507115 ,  1.48758718, -5.56305806])"
      ]
     },
     "execution_count": 51,
     "metadata": {},
     "output_type": "execute_result"
    }
   ],
   "source": [
    "def get_amodel(location, kitti_yaw, dims):\n",
    "\n",
    "    # Extract the location and yaw information from the KITTI bounding box\n",
    "    x, y, z = location\n",
    "    yaw = kitti_yaw\n",
    "\n",
    "    # Convert the yaw to the rotation matrix\n",
    "    cos_yaw = np.cos(yaw)\n",
    "    sin_yaw = np.sin(yaw)\n",
    "    rotation_matrix = np.array([[cos_yaw, 0, -sin_yaw], [0, 1, 0], [sin_yaw, 0, cos_yaw]])\n",
    "\n",
    "    # Convert the location to the amodel_center format\n",
    "    amodel_center = np.dot(rotation_matrix.T, np.array([x, y, z])) - np.dot(rotation_matrix.T, dims) / 2\n",
    "    return amodel_center\n",
    "\n",
    "test_dim = dimensions[0]\n",
    "test_loc = location[0]\n",
    "test_yaw = yaw[0]\n",
    "get_amodel(test_loc, test_yaw, test_dim)"
   ]
  },
  {
   "cell_type": "code",
   "execution_count": null,
   "id": "27795c96",
   "metadata": {},
   "outputs": [],
   "source": [
    "info['calib']"
   ]
  }
 ],
 "metadata": {
  "kernelspec": {
   "display_name": "Python 3 (ipykernel)",
   "language": "python",
   "name": "python3"
  },
  "language_info": {
   "codemirror_mode": {
    "name": "ipython",
    "version": 3
   },
   "file_extension": ".py",
   "mimetype": "text/x-python",
   "name": "python",
   "nbconvert_exporter": "python",
   "pygments_lexer": "ipython3",
   "version": "3.8.16"
  }
 },
 "nbformat": 4,
 "nbformat_minor": 5
}
